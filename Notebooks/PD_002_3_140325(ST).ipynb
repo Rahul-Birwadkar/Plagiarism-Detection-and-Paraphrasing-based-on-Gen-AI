{
  "nbformat": 4,
  "nbformat_minor": 0,
  "metadata": {
    "colab": {
      "provenance": [],
      "gpuType": "T4"
    },
    "kernelspec": {
      "name": "python3",
      "display_name": "Python 3"
    },
    "language_info": {
      "name": "python"
    },
    "accelerator": "GPU"
  },
  "cells": [
    {
      "cell_type": "code",
      "execution_count": null,
      "metadata": {
        "colab": {
          "base_uri": "https://localhost:8080/"
        },
        "id": "PQVJyNowDU_B",
        "outputId": "95ca95cb-5344-45b3-fc0d-f53d08e6c05c",
        "collapsed": true
      },
      "outputs": [
        {
          "output_type": "stream",
          "name": "stdout",
          "text": [
            "Requirement already satisfied: transformers in /usr/local/lib/python3.11/dist-packages (4.48.3)\n",
            "Collecting datasets\n",
            "  Downloading datasets-3.3.2-py3-none-any.whl.metadata (19 kB)\n",
            "Requirement already satisfied: torch in /usr/local/lib/python3.11/dist-packages (2.5.1+cu124)\n",
            "Requirement already satisfied: tqdm in /usr/local/lib/python3.11/dist-packages (4.67.1)\n",
            "Requirement already satisfied: accelerate in /usr/local/lib/python3.11/dist-packages (1.3.0)\n",
            "Requirement already satisfied: safetensors in /usr/local/lib/python3.11/dist-packages (0.5.3)\n",
            "Requirement already satisfied: filelock in /usr/local/lib/python3.11/dist-packages (from transformers) (3.17.0)\n",
            "Requirement already satisfied: huggingface-hub<1.0,>=0.24.0 in /usr/local/lib/python3.11/dist-packages (from transformers) (0.28.1)\n",
            "Requirement already satisfied: numpy>=1.17 in /usr/local/lib/python3.11/dist-packages (from transformers) (1.26.4)\n",
            "Requirement already satisfied: packaging>=20.0 in /usr/local/lib/python3.11/dist-packages (from transformers) (24.2)\n",
            "Requirement already satisfied: pyyaml>=5.1 in /usr/local/lib/python3.11/dist-packages (from transformers) (6.0.2)\n",
            "Requirement already satisfied: regex!=2019.12.17 in /usr/local/lib/python3.11/dist-packages (from transformers) (2024.11.6)\n",
            "Requirement already satisfied: requests in /usr/local/lib/python3.11/dist-packages (from transformers) (2.32.3)\n",
            "Requirement already satisfied: tokenizers<0.22,>=0.21 in /usr/local/lib/python3.11/dist-packages (from transformers) (0.21.0)\n",
            "Requirement already satisfied: pyarrow>=15.0.0 in /usr/local/lib/python3.11/dist-packages (from datasets) (18.1.0)\n",
            "Collecting dill<0.3.9,>=0.3.0 (from datasets)\n",
            "  Downloading dill-0.3.8-py3-none-any.whl.metadata (10 kB)\n",
            "Requirement already satisfied: pandas in /usr/local/lib/python3.11/dist-packages (from datasets) (2.2.2)\n",
            "Collecting xxhash (from datasets)\n",
            "  Downloading xxhash-3.5.0-cp311-cp311-manylinux_2_17_x86_64.manylinux2014_x86_64.whl.metadata (12 kB)\n",
            "Collecting multiprocess<0.70.17 (from datasets)\n",
            "  Downloading multiprocess-0.70.16-py311-none-any.whl.metadata (7.2 kB)\n",
            "Requirement already satisfied: fsspec<=2024.12.0,>=2023.1.0 in /usr/local/lib/python3.11/dist-packages (from fsspec[http]<=2024.12.0,>=2023.1.0->datasets) (2024.10.0)\n",
            "Requirement already satisfied: aiohttp in /usr/local/lib/python3.11/dist-packages (from datasets) (3.11.13)\n",
            "Requirement already satisfied: typing-extensions>=4.8.0 in /usr/local/lib/python3.11/dist-packages (from torch) (4.12.2)\n",
            "Requirement already satisfied: networkx in /usr/local/lib/python3.11/dist-packages (from torch) (3.4.2)\n",
            "Requirement already satisfied: jinja2 in /usr/local/lib/python3.11/dist-packages (from torch) (3.1.6)\n",
            "Collecting nvidia-cuda-nvrtc-cu12==12.4.127 (from torch)\n",
            "  Downloading nvidia_cuda_nvrtc_cu12-12.4.127-py3-none-manylinux2014_x86_64.whl.metadata (1.5 kB)\n",
            "Collecting nvidia-cuda-runtime-cu12==12.4.127 (from torch)\n",
            "  Downloading nvidia_cuda_runtime_cu12-12.4.127-py3-none-manylinux2014_x86_64.whl.metadata (1.5 kB)\n",
            "Collecting nvidia-cuda-cupti-cu12==12.4.127 (from torch)\n",
            "  Downloading nvidia_cuda_cupti_cu12-12.4.127-py3-none-manylinux2014_x86_64.whl.metadata (1.6 kB)\n",
            "Collecting nvidia-cudnn-cu12==9.1.0.70 (from torch)\n",
            "  Downloading nvidia_cudnn_cu12-9.1.0.70-py3-none-manylinux2014_x86_64.whl.metadata (1.6 kB)\n",
            "Collecting nvidia-cublas-cu12==12.4.5.8 (from torch)\n",
            "  Downloading nvidia_cublas_cu12-12.4.5.8-py3-none-manylinux2014_x86_64.whl.metadata (1.5 kB)\n",
            "Collecting nvidia-cufft-cu12==11.2.1.3 (from torch)\n",
            "  Downloading nvidia_cufft_cu12-11.2.1.3-py3-none-manylinux2014_x86_64.whl.metadata (1.5 kB)\n",
            "Collecting nvidia-curand-cu12==10.3.5.147 (from torch)\n",
            "  Downloading nvidia_curand_cu12-10.3.5.147-py3-none-manylinux2014_x86_64.whl.metadata (1.5 kB)\n",
            "Collecting nvidia-cusolver-cu12==11.6.1.9 (from torch)\n",
            "  Downloading nvidia_cusolver_cu12-11.6.1.9-py3-none-manylinux2014_x86_64.whl.metadata (1.6 kB)\n",
            "Collecting nvidia-cusparse-cu12==12.3.1.170 (from torch)\n",
            "  Downloading nvidia_cusparse_cu12-12.3.1.170-py3-none-manylinux2014_x86_64.whl.metadata (1.6 kB)\n",
            "Requirement already satisfied: nvidia-nccl-cu12==2.21.5 in /usr/local/lib/python3.11/dist-packages (from torch) (2.21.5)\n",
            "Requirement already satisfied: nvidia-nvtx-cu12==12.4.127 in /usr/local/lib/python3.11/dist-packages (from torch) (12.4.127)\n",
            "Collecting nvidia-nvjitlink-cu12==12.4.127 (from torch)\n",
            "  Downloading nvidia_nvjitlink_cu12-12.4.127-py3-none-manylinux2014_x86_64.whl.metadata (1.5 kB)\n",
            "Requirement already satisfied: triton==3.1.0 in /usr/local/lib/python3.11/dist-packages (from torch) (3.1.0)\n",
            "Requirement already satisfied: sympy==1.13.1 in /usr/local/lib/python3.11/dist-packages (from torch) (1.13.1)\n",
            "Requirement already satisfied: mpmath<1.4,>=1.1.0 in /usr/local/lib/python3.11/dist-packages (from sympy==1.13.1->torch) (1.3.0)\n",
            "Requirement already satisfied: psutil in /usr/local/lib/python3.11/dist-packages (from accelerate) (5.9.5)\n",
            "Requirement already satisfied: aiohappyeyeballs>=2.3.0 in /usr/local/lib/python3.11/dist-packages (from aiohttp->datasets) (2.5.0)\n",
            "Requirement already satisfied: aiosignal>=1.1.2 in /usr/local/lib/python3.11/dist-packages (from aiohttp->datasets) (1.3.2)\n",
            "Requirement already satisfied: attrs>=17.3.0 in /usr/local/lib/python3.11/dist-packages (from aiohttp->datasets) (25.1.0)\n",
            "Requirement already satisfied: frozenlist>=1.1.1 in /usr/local/lib/python3.11/dist-packages (from aiohttp->datasets) (1.5.0)\n",
            "Requirement already satisfied: multidict<7.0,>=4.5 in /usr/local/lib/python3.11/dist-packages (from aiohttp->datasets) (6.1.0)\n",
            "Requirement already satisfied: propcache>=0.2.0 in /usr/local/lib/python3.11/dist-packages (from aiohttp->datasets) (0.3.0)\n",
            "Requirement already satisfied: yarl<2.0,>=1.17.0 in /usr/local/lib/python3.11/dist-packages (from aiohttp->datasets) (1.18.3)\n",
            "Requirement already satisfied: charset-normalizer<4,>=2 in /usr/local/lib/python3.11/dist-packages (from requests->transformers) (3.4.1)\n",
            "Requirement already satisfied: idna<4,>=2.5 in /usr/local/lib/python3.11/dist-packages (from requests->transformers) (3.10)\n",
            "Requirement already satisfied: urllib3<3,>=1.21.1 in /usr/local/lib/python3.11/dist-packages (from requests->transformers) (2.3.0)\n",
            "Requirement already satisfied: certifi>=2017.4.17 in /usr/local/lib/python3.11/dist-packages (from requests->transformers) (2025.1.31)\n",
            "Requirement already satisfied: MarkupSafe>=2.0 in /usr/local/lib/python3.11/dist-packages (from jinja2->torch) (3.0.2)\n",
            "Requirement already satisfied: python-dateutil>=2.8.2 in /usr/local/lib/python3.11/dist-packages (from pandas->datasets) (2.8.2)\n",
            "Requirement already satisfied: pytz>=2020.1 in /usr/local/lib/python3.11/dist-packages (from pandas->datasets) (2025.1)\n",
            "Requirement already satisfied: tzdata>=2022.7 in /usr/local/lib/python3.11/dist-packages (from pandas->datasets) (2025.1)\n",
            "Requirement already satisfied: six>=1.5 in /usr/local/lib/python3.11/dist-packages (from python-dateutil>=2.8.2->pandas->datasets) (1.17.0)\n",
            "Downloading datasets-3.3.2-py3-none-any.whl (485 kB)\n",
            "\u001b[2K   \u001b[90m━━━━━━━━━━━━━━━━━━━━━━━━━━━━━━━━━━━━━━━━\u001b[0m \u001b[32m485.4/485.4 kB\u001b[0m \u001b[31m8.3 MB/s\u001b[0m eta \u001b[36m0:00:00\u001b[0m\n",
            "\u001b[?25hDownloading nvidia_cublas_cu12-12.4.5.8-py3-none-manylinux2014_x86_64.whl (363.4 MB)\n",
            "\u001b[2K   \u001b[90m━━━━━━━━━━━━━━━━━━━━━━━━━━━━━━━━━━━━━━━━\u001b[0m \u001b[32m363.4/363.4 MB\u001b[0m \u001b[31m3.8 MB/s\u001b[0m eta \u001b[36m0:00:00\u001b[0m\n",
            "\u001b[?25hDownloading nvidia_cuda_cupti_cu12-12.4.127-py3-none-manylinux2014_x86_64.whl (13.8 MB)\n",
            "\u001b[2K   \u001b[90m━━━━━━━━━━━━━━━━━━━━━━━━━━━━━━━━━━━━━━━━\u001b[0m \u001b[32m13.8/13.8 MB\u001b[0m \u001b[31m28.2 MB/s\u001b[0m eta \u001b[36m0:00:00\u001b[0m\n",
            "\u001b[?25hDownloading nvidia_cuda_nvrtc_cu12-12.4.127-py3-none-manylinux2014_x86_64.whl (24.6 MB)\n",
            "\u001b[2K   \u001b[90m━━━━━━━━━━━━━━━━━━━━━━━━━━━━━━━━━━━━━━━━\u001b[0m \u001b[32m24.6/24.6 MB\u001b[0m \u001b[31m30.4 MB/s\u001b[0m eta \u001b[36m0:00:00\u001b[0m\n",
            "\u001b[?25hDownloading nvidia_cuda_runtime_cu12-12.4.127-py3-none-manylinux2014_x86_64.whl (883 kB)\n",
            "\u001b[2K   \u001b[90m━━━━━━━━━━━━━━━━━━━━━━━━━━━━━━━━━━━━━━━━\u001b[0m \u001b[32m883.7/883.7 kB\u001b[0m \u001b[31m21.7 MB/s\u001b[0m eta \u001b[36m0:00:00\u001b[0m\n",
            "\u001b[?25hDownloading nvidia_cudnn_cu12-9.1.0.70-py3-none-manylinux2014_x86_64.whl (664.8 MB)\n",
            "\u001b[2K   \u001b[90m━━━━━━━━━━━━━━━━━━━━━━━━━━━━━━━━━━━━━━━━\u001b[0m \u001b[32m664.8/664.8 MB\u001b[0m \u001b[31m1.0 MB/s\u001b[0m eta \u001b[36m0:00:00\u001b[0m\n",
            "\u001b[?25hDownloading nvidia_cufft_cu12-11.2.1.3-py3-none-manylinux2014_x86_64.whl (211.5 MB)\n",
            "\u001b[2K   \u001b[90m━━━━━━━━━━━━━━━━━━━━━━━━━━━━━━━━━━━━━━━━\u001b[0m \u001b[32m211.5/211.5 MB\u001b[0m \u001b[31m2.2 MB/s\u001b[0m eta \u001b[36m0:00:00\u001b[0m\n",
            "\u001b[?25hDownloading nvidia_curand_cu12-10.3.5.147-py3-none-manylinux2014_x86_64.whl (56.3 MB)\n",
            "\u001b[2K   \u001b[90m━━━━━━━━━━━━━━━━━━━━━━━━━━━━━━━━━━━━━━━━\u001b[0m \u001b[32m56.3/56.3 MB\u001b[0m \u001b[31m13.3 MB/s\u001b[0m eta \u001b[36m0:00:00\u001b[0m\n",
            "\u001b[?25hDownloading nvidia_cusolver_cu12-11.6.1.9-py3-none-manylinux2014_x86_64.whl (127.9 MB)\n",
            "\u001b[2K   \u001b[90m━━━━━━━━━━━━━━━━━━━━━━━━━━━━━━━━━━━━━━━━\u001b[0m \u001b[32m127.9/127.9 MB\u001b[0m \u001b[31m7.2 MB/s\u001b[0m eta \u001b[36m0:00:00\u001b[0m\n",
            "\u001b[?25hDownloading nvidia_cusparse_cu12-12.3.1.170-py3-none-manylinux2014_x86_64.whl (207.5 MB)\n",
            "\u001b[2K   \u001b[90m━━━━━━━━━━━━━━━━━━━━━━━━━━━━━━━━━━━━━━━━\u001b[0m \u001b[32m207.5/207.5 MB\u001b[0m \u001b[31m6.5 MB/s\u001b[0m eta \u001b[36m0:00:00\u001b[0m\n",
            "\u001b[?25hDownloading nvidia_nvjitlink_cu12-12.4.127-py3-none-manylinux2014_x86_64.whl (21.1 MB)\n",
            "\u001b[2K   \u001b[90m━━━━━━━━━━━━━━━━━━━━━━━━━━━━━━━━━━━━━━━━\u001b[0m \u001b[32m21.1/21.1 MB\u001b[0m \u001b[31m53.5 MB/s\u001b[0m eta \u001b[36m0:00:00\u001b[0m\n",
            "\u001b[?25hDownloading dill-0.3.8-py3-none-any.whl (116 kB)\n",
            "\u001b[2K   \u001b[90m━━━━━━━━━━━━━━━━━━━━━━━━━━━━━━━━━━━━━━━━\u001b[0m \u001b[32m116.3/116.3 kB\u001b[0m \u001b[31m7.2 MB/s\u001b[0m eta \u001b[36m0:00:00\u001b[0m\n",
            "\u001b[?25hDownloading multiprocess-0.70.16-py311-none-any.whl (143 kB)\n",
            "\u001b[2K   \u001b[90m━━━━━━━━━━━━━━━━━━━━━━━━━━━━━━━━━━━━━━━━\u001b[0m \u001b[32m143.5/143.5 kB\u001b[0m \u001b[31m9.0 MB/s\u001b[0m eta \u001b[36m0:00:00\u001b[0m\n",
            "\u001b[?25hDownloading xxhash-3.5.0-cp311-cp311-manylinux_2_17_x86_64.manylinux2014_x86_64.whl (194 kB)\n",
            "\u001b[2K   \u001b[90m━━━━━━━━━━━━━━━━━━━━━━━━━━━━━━━━━━━━━━━━\u001b[0m \u001b[32m194.8/194.8 kB\u001b[0m \u001b[31m11.3 MB/s\u001b[0m eta \u001b[36m0:00:00\u001b[0m\n",
            "\u001b[?25hInstalling collected packages: xxhash, nvidia-nvjitlink-cu12, nvidia-curand-cu12, nvidia-cufft-cu12, nvidia-cuda-runtime-cu12, nvidia-cuda-nvrtc-cu12, nvidia-cuda-cupti-cu12, nvidia-cublas-cu12, dill, nvidia-cusparse-cu12, nvidia-cudnn-cu12, multiprocess, nvidia-cusolver-cu12, datasets\n",
            "  Attempting uninstall: nvidia-nvjitlink-cu12\n",
            "    Found existing installation: nvidia-nvjitlink-cu12 12.5.82\n",
            "    Uninstalling nvidia-nvjitlink-cu12-12.5.82:\n",
            "      Successfully uninstalled nvidia-nvjitlink-cu12-12.5.82\n",
            "  Attempting uninstall: nvidia-curand-cu12\n",
            "    Found existing installation: nvidia-curand-cu12 10.3.6.82\n",
            "    Uninstalling nvidia-curand-cu12-10.3.6.82:\n",
            "      Successfully uninstalled nvidia-curand-cu12-10.3.6.82\n",
            "  Attempting uninstall: nvidia-cufft-cu12\n",
            "    Found existing installation: nvidia-cufft-cu12 11.2.3.61\n",
            "    Uninstalling nvidia-cufft-cu12-11.2.3.61:\n",
            "      Successfully uninstalled nvidia-cufft-cu12-11.2.3.61\n",
            "  Attempting uninstall: nvidia-cuda-runtime-cu12\n",
            "    Found existing installation: nvidia-cuda-runtime-cu12 12.5.82\n",
            "    Uninstalling nvidia-cuda-runtime-cu12-12.5.82:\n",
            "      Successfully uninstalled nvidia-cuda-runtime-cu12-12.5.82\n",
            "  Attempting uninstall: nvidia-cuda-nvrtc-cu12\n",
            "    Found existing installation: nvidia-cuda-nvrtc-cu12 12.5.82\n",
            "    Uninstalling nvidia-cuda-nvrtc-cu12-12.5.82:\n",
            "      Successfully uninstalled nvidia-cuda-nvrtc-cu12-12.5.82\n",
            "  Attempting uninstall: nvidia-cuda-cupti-cu12\n",
            "    Found existing installation: nvidia-cuda-cupti-cu12 12.5.82\n",
            "    Uninstalling nvidia-cuda-cupti-cu12-12.5.82:\n",
            "      Successfully uninstalled nvidia-cuda-cupti-cu12-12.5.82\n",
            "  Attempting uninstall: nvidia-cublas-cu12\n",
            "    Found existing installation: nvidia-cublas-cu12 12.5.3.2\n",
            "    Uninstalling nvidia-cublas-cu12-12.5.3.2:\n",
            "      Successfully uninstalled nvidia-cublas-cu12-12.5.3.2\n",
            "  Attempting uninstall: nvidia-cusparse-cu12\n",
            "    Found existing installation: nvidia-cusparse-cu12 12.5.1.3\n",
            "    Uninstalling nvidia-cusparse-cu12-12.5.1.3:\n",
            "      Successfully uninstalled nvidia-cusparse-cu12-12.5.1.3\n",
            "  Attempting uninstall: nvidia-cudnn-cu12\n",
            "    Found existing installation: nvidia-cudnn-cu12 9.3.0.75\n",
            "    Uninstalling nvidia-cudnn-cu12-9.3.0.75:\n",
            "      Successfully uninstalled nvidia-cudnn-cu12-9.3.0.75\n",
            "  Attempting uninstall: nvidia-cusolver-cu12\n",
            "    Found existing installation: nvidia-cusolver-cu12 11.6.3.83\n",
            "    Uninstalling nvidia-cusolver-cu12-11.6.3.83:\n",
            "      Successfully uninstalled nvidia-cusolver-cu12-11.6.3.83\n",
            "Successfully installed datasets-3.3.2 dill-0.3.8 multiprocess-0.70.16 nvidia-cublas-cu12-12.4.5.8 nvidia-cuda-cupti-cu12-12.4.127 nvidia-cuda-nvrtc-cu12-12.4.127 nvidia-cuda-runtime-cu12-12.4.127 nvidia-cudnn-cu12-9.1.0.70 nvidia-cufft-cu12-11.2.1.3 nvidia-curand-cu12-10.3.5.147 nvidia-cusolver-cu12-11.6.1.9 nvidia-cusparse-cu12-12.3.1.170 nvidia-nvjitlink-cu12-12.4.127 xxhash-3.5.0\n"
          ]
        }
      ],
      "source": [
        "#  Install required libraries\n",
        "!pip install transformers datasets torch tqdm accelerate safetensors"
      ]
    },
    {
      "cell_type": "code",
      "source": [
        "#  Step 1: Mount Google Drive\n",
        "from google.colab import drive\n",
        "drive.mount('/content/drive')\n"
      ],
      "metadata": {
        "colab": {
          "base_uri": "https://localhost:8080/"
        },
        "id": "8g-xsjtvEp3O",
        "outputId": "8c993585-1afa-45b2-f3b5-d750e843ecbb"
      },
      "execution_count": null,
      "outputs": [
        {
          "output_type": "stream",
          "name": "stdout",
          "text": [
            "Mounted at /content/drive\n"
          ]
        }
      ]
    },
    {
      "cell_type": "code",
      "source": [
        "#  Install required libraries\n",
        "# !pip install transformers datasets torch tqdm accelerate safetensors"
      ],
      "metadata": {
        "id": "OI3e4bCpFQjU"
      },
      "execution_count": null,
      "outputs": []
    },
    {
      "cell_type": "markdown",
      "source": [
        "Fine Tune Sentence Transformer based Model and Used Hybrid approach (TF-IDF + Embedding)  Threshold:- 0.5 (PDT-02)"
      ],
      "metadata": {
        "id": "nB7I1xq8DVcI"
      }
    },
    {
      "cell_type": "code",
      "source": [
        "import os\n",
        "import zipfile\n",
        "import xml.etree.ElementTree as ET\n",
        "import pandas as pd\n",
        "import torch\n",
        "import torch.nn as nn\n",
        "from torch.utils.data import Dataset, DataLoader\n",
        "from sentence_transformers import SentenceTransformer\n",
        "from tqdm import tqdm\n",
        "from sklearn.model_selection import train_test_split\n",
        "\n",
        "#  Define Dataset Paths\n",
        "dataset_path = \"/content/drive/MyDrive/PD-Test-dataset/\"\n",
        "suspicious_zip_path = os.path.join(dataset_path, \"suspicious.zip\")\n",
        "source_zip_path = os.path.join(dataset_path, \"source.zip\")\n",
        "\n",
        "extract_suspicious_path = \"/content/pd_test_suspicious\"\n",
        "extract_source_path = \"/content/pd_test_source\"\n",
        "\n",
        "#  Extract Suspicious & Source ZIP\n",
        "with zipfile.ZipFile(suspicious_zip_path, 'r') as zip_ref:\n",
        "    zip_ref.extractall(extract_suspicious_path)\n",
        "\n",
        "with zipfile.ZipFile(source_zip_path, 'r') as zip_ref:\n",
        "    zip_ref.extractall(extract_source_path)\n",
        "\n",
        "print(\" Dataset extracted successfully.\")\n",
        "\n",
        "#  Function to Extract Plagiarism Labels from XML\n",
        "def extract_labels_from_xml(xml_dir, source_dir):\n",
        "    data = []\n",
        "    part_folders = [f for f in os.listdir(xml_dir) if os.path.isdir(os.path.join(xml_dir, f))]\n",
        "\n",
        "    xml_files = []\n",
        "    for part in part_folders:\n",
        "        part_path = os.path.join(xml_dir, part)\n",
        "        xml_files.extend([os.path.join(part_path, f) for f in os.listdir(part_path) if f.endswith(\".xml\")])\n",
        "\n",
        "    if not xml_files:\n",
        "        return pd.DataFrame(columns=[\"suspicious_file\", \"source_file\", \"label\"])\n",
        "\n",
        "    all_source_files = []\n",
        "    for part in part_folders:\n",
        "        all_source_files.extend(os.listdir(os.path.join(source_dir, part)))\n",
        "\n",
        "    for xml_path in xml_files:\n",
        "        try:\n",
        "            tree = ET.parse(xml_path)\n",
        "            root = tree.getroot()\n",
        "            suspicious_file = root.attrib.get(\"reference\", \"\")\n",
        "\n",
        "            if not suspicious_file:\n",
        "                continue\n",
        "\n",
        "            plagiarism_cases = [feature for feature in root.findall(\"feature\") if feature.attrib.get(\"name\") == \"plagiarism\"]\n",
        "\n",
        "            if plagiarism_cases:\n",
        "                longest_case = max(plagiarism_cases, key=lambda x: int(x.attrib.get(\"this_length\", 0)))\n",
        "                source_file = longest_case.attrib.get(\"source_reference\", \"\")\n",
        "                label = 1\n",
        "            else:\n",
        "                source_file = \"unknown\"\n",
        "                label = 0\n",
        "\n",
        "            data.append({\"suspicious_file\": suspicious_file, \"source_file\": source_file, \"label\": label})\n",
        "\n",
        "        except ET.ParseError:\n",
        "            continue\n",
        "\n",
        "    return pd.DataFrame(data)\n",
        "\n",
        "#  Extract Labels\n",
        "xml_dir = extract_suspicious_path\n",
        "source_dir = extract_source_path\n",
        "df_test = extract_labels_from_xml(xml_dir, source_dir)\n",
        "\n",
        "print(f\" Test dataset loaded with {df_test.shape[0]} samples.\")\n",
        "\n",
        "#  Function to Load Text Files\n",
        "def load_text(file_path):\n",
        "    \"\"\"Load text from a given file path, return empty string if file is missing.\"\"\"\n",
        "    try:\n",
        "        with open(file_path, \"r\", encoding=\"utf-8\") as f:\n",
        "            return f.read()\n",
        "    except:\n",
        "        return \"\"\n",
        "\n",
        "#  Apply Text Extraction\n",
        "df_test[\"suspicious_text\"] = df_test[\"suspicious_file\"].apply(lambda x: load_text(os.path.join(extract_suspicious_path, x)))\n",
        "df_test[\"source_text\"] = df_test[\"source_file\"].apply(lambda x: load_text(os.path.join(extract_source_path, x)) if x != \"unknown\" else \"\")\n",
        "\n",
        "#  Split Dataset\n",
        "train_df, val_df = train_test_split(df_test, test_size=0.2, random_state=42)\n",
        "\n",
        "#  Load SentenceTransformer Model\n",
        "MODEL_NAME = \"sentence-transformers/all-MiniLM-L6-v2\"\n",
        "device = torch.device(\"cuda\" if torch.cuda.is_available() else \"cpu\")\n",
        "\n",
        "sentence_model = SentenceTransformer(MODEL_NAME).to(device)\n",
        "\n",
        "#  Define Dataset Class\n",
        "class PlagiarismDataset(Dataset):\n",
        "    def __init__(self, df):\n",
        "        self.suspicious_texts = df[\"suspicious_text\"].tolist()\n",
        "        self.source_texts = df[\"source_text\"].tolist()\n",
        "        self.labels = df[\"label\"].tolist()\n",
        "\n",
        "    def __len__(self):\n",
        "        return len(self.suspicious_texts)\n",
        "\n",
        "    def __getitem__(self, idx):\n",
        "        return {\n",
        "            \"suspicious_text\": self.suspicious_texts[idx],\n",
        "            \"source_text\": self.source_texts[idx],\n",
        "            \"label\": torch.tensor([self.labels[idx]], dtype=torch.float),  #  Ensure label has batch dimension\n",
        "        }\n",
        "\n",
        "#  Initialize DataLoader\n",
        "train_dataset = PlagiarismDataset(train_df)\n",
        "val_dataset = PlagiarismDataset(val_df)\n",
        "\n",
        "train_loader = DataLoader(train_dataset, batch_size=16, shuffle=True)\n",
        "val_loader = DataLoader(val_dataset, batch_size=16, shuffle=False)\n",
        "\n",
        "#  Define Fine-Tuning Model (Fixed)\n",
        "class PlagiarismDetectionModel(nn.Module):\n",
        "    def __init__(self, model_name):\n",
        "        super(PlagiarismDetectionModel, self).__init__()\n",
        "        self.sentence_model = SentenceTransformer(model_name)  # Trainable model\n",
        "        self.cosine_similarity = nn.CosineSimilarity(dim=1)\n",
        "        self.loss_fn = nn.MSELoss()\n",
        "\n",
        "    def forward(self, text1, text2, labels=None):\n",
        "        #  Use `self.sentence_model.forward()` instead of `encode()`\n",
        "        emb1 = self.sentence_model.encode(text1, convert_to_tensor=True).to(device).requires_grad_(True)\n",
        "        emb2 = self.sentence_model.encode(text2, convert_to_tensor=True).to(device).requires_grad_(True)\n",
        "\n",
        "        similarity_scores = self.cosine_similarity(emb1, emb2)\n",
        "\n",
        "        loss = None\n",
        "        if labels is not None:\n",
        "            labels = labels.view(-1)  #  Ensure labels are 1D\n",
        "            loss = self.loss_fn(similarity_scores, labels)\n",
        "\n",
        "        return similarity_scores, loss\n",
        "\n",
        "#  Initialize Model & Optimizer\n",
        "model = PlagiarismDetectionModel(MODEL_NAME).to(device)\n",
        "optimizer = torch.optim.AdamW(model.parameters(), lr=1e-6)\n",
        "\n",
        "#  Train the Model\n",
        "EPOCHS = 5\n",
        "for epoch in range(EPOCHS):\n",
        "    model.train()\n",
        "    total_loss = 0\n",
        "\n",
        "    for batch in tqdm(train_loader, desc=f\"Training Epoch {epoch+1}\"):\n",
        "        optimizer.zero_grad()\n",
        "\n",
        "        # Forward pass\n",
        "        similarity_scores, loss = model(batch[\"suspicious_text\"], batch[\"source_text\"], batch[\"label\"])\n",
        "\n",
        "        #  Ensure loss is trainable\n",
        "        loss.backward()\n",
        "        optimizer.step()\n",
        "\n",
        "        total_loss += loss.item()\n",
        "\n",
        "    print(f\"Epoch {epoch+1} Loss: {total_loss / len(train_loader):.4f}\")\n",
        "\n",
        "#  Save Model and SentenceTransformer\n",
        "save_directory = \"/content/drive/MyDrive/PD-FineTuned-SBERT\"\n",
        "os.makedirs(save_directory, exist_ok=True)\n",
        "\n",
        "#  Save SentenceTransformer Model\n",
        "model.sentence_model.save(save_directory)\n",
        "\n",
        "#  Save Plagiarism Detection Model\n",
        "torch.save(model.state_dict(), os.path.join(save_directory, \"plagiarism_model.pth\"))\n",
        "\n",
        "print(f\" Fine-tuned model and SentenceTransformer saved successfully to: {save_directory}\")\n"
      ],
      "metadata": {
        "colab": {
          "base_uri": "https://localhost:8080/"
        },
        "id": "nL4Q8gpumWqB",
        "outputId": "73ac7a71-5f67-4029-e3ae-1607c86d4e35"
      },
      "execution_count": null,
      "outputs": [
        {
          "output_type": "stream",
          "name": "stdout",
          "text": [
            "✅ Dataset extracted successfully.\n",
            "✅ Test dataset loaded with 2000 samples.\n"
          ]
        },
        {
          "output_type": "stream",
          "name": "stderr",
          "text": [
            "Training Epoch 1: 100%|██████████| 100/100 [00:06<00:00, 15.39it/s]\n"
          ]
        },
        {
          "output_type": "stream",
          "name": "stdout",
          "text": [
            "Epoch 1 Loss: 0.5131\n"
          ]
        },
        {
          "output_type": "stream",
          "name": "stderr",
          "text": [
            "Training Epoch 2: 100%|██████████| 100/100 [00:07<00:00, 12.72it/s]\n"
          ]
        },
        {
          "output_type": "stream",
          "name": "stdout",
          "text": [
            "Epoch 2 Loss: 0.5131\n"
          ]
        },
        {
          "output_type": "stream",
          "name": "stderr",
          "text": [
            "Training Epoch 3: 100%|██████████| 100/100 [00:06<00:00, 14.66it/s]\n"
          ]
        },
        {
          "output_type": "stream",
          "name": "stdout",
          "text": [
            "Epoch 3 Loss: 0.5131\n"
          ]
        },
        {
          "output_type": "stream",
          "name": "stderr",
          "text": [
            "Training Epoch 4: 100%|██████████| 100/100 [00:12<00:00,  8.16it/s]\n"
          ]
        },
        {
          "output_type": "stream",
          "name": "stdout",
          "text": [
            "Epoch 4 Loss: 0.5131\n"
          ]
        },
        {
          "output_type": "stream",
          "name": "stderr",
          "text": [
            "Training Epoch 5: 100%|██████████| 100/100 [00:06<00:00, 15.70it/s]\n"
          ]
        },
        {
          "output_type": "stream",
          "name": "stdout",
          "text": [
            "Epoch 5 Loss: 0.5131\n",
            "✅ Fine-tuned model and SentenceTransformer saved successfully to: /content/drive/MyDrive/PD-FineTuned-SBERT\n"
          ]
        }
      ]
    },
    {
      "cell_type": "markdown",
      "source": [
        "Test Sentence Transformer Based Model on validation data (Th= 0.5)"
      ],
      "metadata": {
        "id": "J9zlwuXFEKOW"
      }
    },
    {
      "cell_type": "code",
      "source": [
        "import torch\n",
        "import pandas as pd\n",
        "import numpy as np\n",
        "import os\n",
        "import re\n",
        "import matplotlib.pyplot as plt\n",
        "import seaborn as sns\n",
        "from sentence_transformers import SentenceTransformer\n",
        "from sklearn.feature_extraction.text import TfidfVectorizer\n",
        "from sklearn.metrics.pairwise import cosine_similarity\n",
        "from sklearn.metrics import confusion_matrix, accuracy_score, f1_score, recall_score, precision_score\n",
        "\n",
        "#  Load Fine-Tuned SentenceTransformer Model\n",
        "fine_tuned_model_path = \"/content/drive/MyDrive/PD-FineTuned-SBERT\"\n",
        "device = torch.device(\"cuda\" if torch.cuda.is_available() else \"cpu\")\n",
        "\n",
        "sentence_model = SentenceTransformer(fine_tuned_model_path).to(device)\n",
        "print(\" Fine-tuned model loaded successfully.\")\n",
        "\n",
        "#  Load Test Dataset\n",
        "test_dataset_path = \"/content/drive/MyDrive/PD-Test-dataset/test_results.csv\"\n",
        "df_test = pd.read_csv(test_dataset_path)\n",
        "\n",
        "print(f\" Test dataset loaded with {len(df_test)} samples.\")\n",
        "\n",
        "#  Ensure No NaN Values Before TF-IDF Computation\n",
        "df_test[\"suspicious_text\"] = df_test[\"suspicious_text\"].fillna(\"\").astype(str)\n",
        "df_test[\"source_text\"] = df_test[\"source_text\"].fillna(\"\").astype(str)\n",
        "\n",
        "#  Step 1: Compute TF-IDF Similarity\n",
        "print(\"\\nComputing TF-IDF similarity...\")\n",
        "tfidf_vectorizer = TfidfVectorizer(stop_words='english')\n",
        "\n",
        "# Compute TF-IDF vectors safely\n",
        "tfidf_matrix = tfidf_vectorizer.fit_transform(df_test[\"suspicious_text\"].tolist() + df_test[\"source_text\"].tolist())\n",
        "\n",
        "num_susp = len(df_test)\n",
        "tfidf_similarity_scores = cosine_similarity(tfidf_matrix[:num_susp], tfidf_matrix[num_susp:])\n",
        "\n",
        "#  Step 2: Compute Sentence Embeddings Similarity\n",
        "print(\"\\nComputing Sentence Embeddings...\")\n",
        "suspicious_embeddings = sentence_model.encode(df_test[\"suspicious_text\"].tolist(), convert_to_tensor=True)\n",
        "source_embeddings = sentence_model.encode(df_test[\"source_text\"].tolist(), convert_to_tensor=True)\n",
        "\n",
        "print(\"\\nCalculating Cosine Similarity...\")\n",
        "semantic_similarity_scores = cosine_similarity(suspicious_embeddings.cpu().numpy(), source_embeddings.cpu().numpy())\n",
        "\n",
        "#  Step 3: Compute Hybrid Plagiarism Score\n",
        "df_test[\"Plagiarism Score\"] = (tfidf_similarity_scores.max(axis=1) + semantic_similarity_scores.max(axis=1)) / 2\n",
        "\n",
        "#  Step 4: Define Fixed Threshold for Plagiarism Detection\n",
        "threshold = 0.5  #\n",
        "df_test[\"Predicted Plagiarized\"] = df_test[\"Plagiarism Score\"] > threshold\n",
        "\n",
        "#  Step 5: Evaluate Model Performance\n",
        "y_true = df_test[\"label\"]\n",
        "y_pred = df_test[\"Predicted Plagiarized\"].astype(int)\n",
        "\n",
        "accuracy = accuracy_score(y_true, y_pred)\n",
        "precision = precision_score(y_true, y_pred, zero_division=1)\n",
        "recall = recall_score(y_true, y_pred, zero_division=1)\n",
        "f1 = f1_score(y_true, y_pred, zero_division=1)\n",
        "conf_matrix = confusion_matrix(y_true, y_pred)\n",
        "\n",
        "#  Print Evaluation Metrics\n",
        "print(\"\\n Evaluation Metrics:\")\n",
        "print(f\" Accuracy:  {accuracy:.4f}\")\n",
        "print(f\" Precision: {precision:.4f}\")\n",
        "print(f\" Recall:    {recall:.4f}\")\n",
        "print(f\" F1 Score:  {f1:.4f}\")\n",
        "\n",
        "#  Step 6: Plot Confusion Matrix\n",
        "plt.figure(figsize=(6, 4))\n",
        "sns.heatmap(conf_matrix, annot=True, fmt=\"d\", cmap=\"Blues\")\n",
        "plt.xlabel(\"Predicted\")\n",
        "plt.ylabel(\"Actual\")\n",
        "plt.title(\"Confusion Matrix\")\n",
        "plt.show()\n",
        "\n",
        "#  Save Results\n",
        "df_test.to_csv(\"/content/drive/MyDrive/PD-FineTuned-SBERT/test_results_with_scores.csv\", index=False)\n",
        "print(f\"\\n Final results saved as test_results_with_scores.csv with {len(df_test)} entries.\")\n"
      ],
      "metadata": {
        "colab": {
          "base_uri": "https://localhost:8080/",
          "height": 688
        },
        "id": "2x_O4Xf1WQp_",
        "outputId": "eec0fd43-ff2d-42ac-a886-459c6119cfd4"
      },
      "execution_count": null,
      "outputs": [
        {
          "output_type": "stream",
          "name": "stdout",
          "text": [
            "✅ Fine-tuned model loaded successfully.\n",
            "✅ Test dataset loaded with 2000 samples.\n",
            "\n",
            "Computing TF-IDF similarity...\n",
            "\n",
            "Computing Sentence Embeddings...\n",
            "\n",
            "Calculating Cosine Similarity...\n",
            "\n",
            "✅ Evaluation Metrics:\n",
            "🔹 Accuracy:  0.4980\n",
            "🔹 Precision: 0.4863\n",
            "🔹 Recall:    0.0891\n",
            "🔹 F1 Score:  0.1506\n"
          ]
        },
        {
          "output_type": "display_data",
          "data": {
            "text/plain": [
              "<Figure size 600x400 with 2 Axes>"
            ],
            "image/png": "[encoded data removed]"
          },
          "metadata": {}
        },
        {
          "output_type": "stream",
          "name": "stdout",
          "text": [
            "\n",
            "✅ Final results saved as test_results_with_scores.csv with 2000 entries.\n"
          ]
        }
      ]
    },
    {
      "cell_type": "markdown",
      "source": [
        "Test Sentence Transformer Based Model (Th= 0.4)"
      ],
      "metadata": {
        "id": "CobYqzwKhM-t"
      }
    },
    {
      "cell_type": "code",
      "source": [
        "import torch\n",
        "import pandas as pd\n",
        "import numpy as np\n",
        "import os\n",
        "import re\n",
        "import matplotlib.pyplot as plt\n",
        "import seaborn as sns\n",
        "from sentence_transformers import SentenceTransformer\n",
        "from sklearn.feature_extraction.text import TfidfVectorizer\n",
        "from sklearn.metrics.pairwise import cosine_similarity\n",
        "from sklearn.metrics import confusion_matrix, accuracy_score, f1_score, recall_score, precision_score\n",
        "\n",
        "#  Load Fine-Tuned SentenceTransformer Model\n",
        "fine_tuned_model_path = \"/content/drive/MyDrive/PD-FineTuned-SBERT\"\n",
        "device = torch.device(\"cuda\" if torch.cuda.is_available() else \"cpu\")\n",
        "\n",
        "sentence_model = SentenceTransformer(fine_tuned_model_path).to(device)\n",
        "print(\" Fine-tuned model loaded successfully.\")\n",
        "\n",
        "#  Load Test Dataset\n",
        "test_dataset_path = \"/content/drive/MyDrive/PD-Test-dataset/test_results.csv\"\n",
        "df_test = pd.read_csv(test_dataset_path)\n",
        "\n",
        "print(f\" Test dataset loaded with {len(df_test)} samples.\")\n",
        "\n",
        "#  Ensure No NaN Values Before TF-IDF Computation\n",
        "df_test[\"suspicious_text\"] = df_test[\"suspicious_text\"].fillna(\"\").astype(str)\n",
        "df_test[\"source_text\"] = df_test[\"source_text\"].fillna(\"\").astype(str)\n",
        "\n",
        "#  Step 1: Compute TF-IDF Similarity\n",
        "print(\"\\nComputing TF-IDF similarity...\")\n",
        "tfidf_vectorizer = TfidfVectorizer(stop_words='english')\n",
        "\n",
        "# Compute TF-IDF vectors safely\n",
        "tfidf_matrix = tfidf_vectorizer.fit_transform(df_test[\"suspicious_text\"].tolist() + df_test[\"source_text\"].tolist())\n",
        "\n",
        "num_susp = len(df_test)\n",
        "tfidf_similarity_scores = cosine_similarity(tfidf_matrix[:num_susp], tfidf_matrix[num_susp:])\n",
        "\n",
        "#  Step 2: Compute Sentence Embeddings Similarity\n",
        "print(\"\\nComputing Sentence Embeddings...\")\n",
        "suspicious_embeddings = sentence_model.encode(df_test[\"suspicious_text\"].tolist(), convert_to_tensor=True)\n",
        "source_embeddings = sentence_model.encode(df_test[\"source_text\"].tolist(), convert_to_tensor=True)\n",
        "\n",
        "print(\"\\nCalculating Cosine Similarity...\")\n",
        "semantic_similarity_scores = cosine_similarity(suspicious_embeddings.cpu().numpy(), source_embeddings.cpu().numpy())\n",
        "\n",
        "#  Step 3: Compute Hybrid Plagiarism Score\n",
        "df_test[\"Plagiarism Score\"] = (tfidf_similarity_scores.max(axis=1) + semantic_similarity_scores.max(axis=1)) / 2\n",
        "\n",
        "#  Step 4: Define Fixed Threshold for Plagiarism Detection\n",
        "threshold = 0.4  #\n",
        "df_test[\"Predicted Plagiarized\"] = df_test[\"Plagiarism Score\"] > threshold\n",
        "\n",
        "#  Step 5: Evaluate Model Performance\n",
        "y_true = df_test[\"label\"]\n",
        "y_pred = df_test[\"Predicted Plagiarized\"].astype(int)\n",
        "\n",
        "accuracy = accuracy_score(y_true, y_pred)\n",
        "precision = precision_score(y_true, y_pred, zero_division=1)\n",
        "recall = recall_score(y_true, y_pred, zero_division=1)\n",
        "f1 = f1_score(y_true, y_pred, zero_division=1)\n",
        "conf_matrix = confusion_matrix(y_true, y_pred)\n",
        "\n",
        "#  Print Evaluation Metrics\n",
        "print(\"\\n Evaluation Metrics:\")\n",
        "print(f\" Accuracy:  {accuracy:.4f}\")\n",
        "print(f\" Precision: {precision:.4f}\")\n",
        "print(f\" Recall:    {recall:.4f}\")\n",
        "print(f\" F1 Score:  {f1:.4f}\")\n",
        "\n",
        "#  Step 6: Plot Confusion Matrix\n",
        "plt.figure(figsize=(6, 4))\n",
        "sns.heatmap(conf_matrix, annot=True, fmt=\"d\", cmap=\"Blues\")\n",
        "plt.xlabel(\"Predicted\")\n",
        "plt.ylabel(\"Actual\")\n",
        "plt.title(\"Confusion Matrix\")\n",
        "plt.show()\n",
        "\n",
        "#  Save Results\n",
        "df_test.to_csv(\"/content/drive/MyDrive/PD-FineTuned-SBERT/PDT-02-0.4_scores.csv\", index=False)\n",
        "print(f\"\\n Final results saved as PDT-02-0.4_scores.csv with {len(df_test)} entries.\")\n"
      ],
      "metadata": {
        "colab": {
          "base_uri": "https://localhost:8080/",
          "height": 702
        },
        "id": "yh4GGDntKCKF",
        "outputId": "f723eca2-b072-4674-f7b9-a6e65c50b66c"
      },
      "execution_count": null,
      "outputs": [
        {
          "output_type": "stream",
          "name": "stdout",
          "text": [
            " Fine-tuned model loaded successfully.\n",
            " Test dataset loaded with 2000 samples.\n",
            "\n",
            "Computing TF-IDF similarity...\n",
            "\n",
            "Computing Sentence Embeddings...\n",
            "\n",
            "Calculating Cosine Similarity...\n",
            "\n",
            " Evaluation Metrics:\n",
            " Accuracy:  0.4940\n",
            " Precision: 0.4930\n",
            " Recall:    0.4605\n",
            " F1 Score:  0.4762\n"
          ]
        },
        {
          "output_type": "display_data",
          "data": {
            "text/plain": [
              "<Figure size 600x400 with 2 Axes>"
            ],
            "image/png": "[encoded data removed]"
          },
          "metadata": {}
        },
        {
          "output_type": "stream",
          "name": "stdout",
          "text": [
            "\n",
            " Final results saved as test_results_with_scores.csv with 2000 entries.\n"
          ]
        }
      ]
    },
    {
      "cell_type": "code",
      "source": [],
      "metadata": {
        "id": "3h5r27Z2KCHw"
      },
      "execution_count": null,
      "outputs": []
    },
    {
      "cell_type": "markdown",
      "source": [
        "Test Sentence Transformer Based Model (Th= 0.8)"
      ],
      "metadata": {
        "id": "aqU2yMJ0fxcW"
      }
    },
    {
      "cell_type": "code",
      "source": [
        "import torch\n",
        "import pandas as pd\n",
        "import numpy as np\n",
        "import os\n",
        "import re\n",
        "import matplotlib.pyplot as plt\n",
        "import seaborn as sns\n",
        "from sentence_transformers import SentenceTransformer\n",
        "from sklearn.feature_extraction.text import TfidfVectorizer\n",
        "from sklearn.metrics.pairwise import cosine_similarity\n",
        "from sklearn.metrics import confusion_matrix, accuracy_score, f1_score, recall_score, precision_score\n",
        "\n",
        "#  Load Fine-Tuned SentenceTransformer Model\n",
        "fine_tuned_model_path = \"/content/drive/MyDrive/PD-FineTuned-SBERT\"\n",
        "device = torch.device(\"cuda\" if torch.cuda.is_available() else \"cpu\")\n",
        "\n",
        "sentence_model = SentenceTransformer(fine_tuned_model_path).to(device)\n",
        "print(\" Fine-tuned model loaded successfully.\")\n",
        "\n",
        "#  Load Test Dataset\n",
        "test_dataset_path = \"/content/drive/MyDrive/PD-Test-dataset/test_results.csv\"\n",
        "df_test = pd.read_csv(test_dataset_path)\n",
        "\n",
        "print(f\" Test dataset loaded with {len(df_test)} samples.\")\n",
        "\n",
        "#  Ensure No NaN Values Before TF-IDF Computation\n",
        "df_test[\"suspicious_text\"] = df_test[\"suspicious_text\"].fillna(\"\").astype(str)\n",
        "df_test[\"source_text\"] = df_test[\"source_text\"].fillna(\"\").astype(str)\n",
        "\n",
        "#  Step 1: Compute TF-IDF Similarity\n",
        "print(\"\\nComputing TF-IDF similarity...\")\n",
        "tfidf_vectorizer = TfidfVectorizer(stop_words='english')\n",
        "\n",
        "# Compute TF-IDF vectors safely\n",
        "tfidf_matrix = tfidf_vectorizer.fit_transform(df_test[\"suspicious_text\"].tolist() + df_test[\"source_text\"].tolist())\n",
        "\n",
        "num_susp = len(df_test)\n",
        "tfidf_similarity_scores = cosine_similarity(tfidf_matrix[:num_susp], tfidf_matrix[num_susp:])\n",
        "\n",
        "#  Step 2: Compute Sentence Embeddings Similarity\n",
        "print(\"\\nComputing Sentence Embeddings...\")\n",
        "suspicious_embeddings = sentence_model.encode(df_test[\"suspicious_text\"].tolist(), convert_to_tensor=True)\n",
        "source_embeddings = sentence_model.encode(df_test[\"source_text\"].tolist(), convert_to_tensor=True)\n",
        "\n",
        "print(\"\\nCalculating Cosine Similarity...\")\n",
        "semantic_similarity_scores = cosine_similarity(suspicious_embeddings.cpu().numpy(), source_embeddings.cpu().numpy())\n",
        "\n",
        "#  Step 3: Compute Hybrid Plagiarism Score\n",
        "df_test[\"Plagiarism Score\"] = (tfidf_similarity_scores.max(axis=1) + semantic_similarity_scores.max(axis=1)) / 2\n",
        "\n",
        "#  Step 4: Define Fixed Threshold for Plagiarism Detection\n",
        "threshold = 0.8  #\n",
        "df_test[\"Predicted Plagiarized\"] = df_test[\"Plagiarism Score\"] > threshold\n",
        "\n",
        "#  Step 5: Evaluate Model Performance\n",
        "y_true = df_test[\"label\"]\n",
        "y_pred = df_test[\"Predicted Plagiarized\"].astype(int)\n",
        "\n",
        "accuracy = accuracy_score(y_true, y_pred)\n",
        "precision = precision_score(y_true, y_pred, zero_division=1)\n",
        "recall = recall_score(y_true, y_pred, zero_division=1)\n",
        "f1 = f1_score(y_true, y_pred, zero_division=1)\n",
        "conf_matrix = confusion_matrix(y_true, y_pred)\n",
        "\n",
        "#  Print Evaluation Metrics\n",
        "print(\"\\n Evaluation Metrics:\")\n",
        "print(f\" Accuracy:  {accuracy:.4f}\")\n",
        "print(f\" Precision: {precision:.4f}\")\n",
        "print(f\" Recall:    {recall:.4f}\")\n",
        "print(f\" F1 Score:  {f1:.4f}\")\n",
        "\n",
        "#  Step 6: Plot Confusion Matrix\n",
        "plt.figure(figsize=(6, 4))\n",
        "sns.heatmap(conf_matrix, annot=True, fmt=\"d\", cmap=\"Blues\")\n",
        "plt.xlabel(\"Predicted\")\n",
        "plt.ylabel(\"Actual\")\n",
        "plt.title(\"Confusion Matrix\")\n",
        "plt.show()\n",
        "\n",
        "#  Save Results\n",
        "df_test.to_csv(\"/content/drive/MyDrive/PD-FineTuned-SBERT/PDT-02-0.8_scores.csv\", index=False)\n",
        "print(f\"\\n Final results saved as PDT-02-0.8_scores.csv with {len(df_test)} entries.\")\n"
      ],
      "metadata": {
        "colab": {
          "base_uri": "https://localhost:8080/",
          "height": 702
        },
        "id": "K-hrfnLFKCEa",
        "outputId": "caeb9a33-014d-4269-8396-4c464338411d"
      },
      "execution_count": null,
      "outputs": [
        {
          "output_type": "stream",
          "name": "stdout",
          "text": [
            " Fine-tuned model loaded successfully.\n",
            " Test dataset loaded with 2000 samples.\n",
            "\n",
            "Computing TF-IDF similarity...\n",
            "\n",
            "Computing Sentence Embeddings...\n",
            "\n",
            "Calculating Cosine Similarity...\n",
            "\n",
            " Evaluation Metrics:\n",
            " Accuracy:  0.5005\n",
            " Precision: 1.0000\n",
            " Recall:    0.0000\n",
            " F1 Score:  0.0000\n"
          ]
        },
        {
          "output_type": "display_data",
          "data": {
            "text/plain": [
              "<Figure size 600x400 with 2 Axes>"
            ],
            "image/png": "[encoded data removed]"
          },
          "metadata": {}
        },
        {
          "output_type": "stream",
          "name": "stdout",
          "text": [
            "\n",
            " Final results saved as PDT-02-0.8_scores.csv with 2000 entries.\n"
          ]
        }
      ]
    },
    {
      "cell_type": "code",
      "source": [],
      "metadata": {
        "id": "BJFB7ykHKCBq"
      },
      "execution_count": null,
      "outputs": []
    },
    {
      "cell_type": "code",
      "source": [],
      "metadata": {
        "id": "IJJQ5FVUajNq"
      },
      "execution_count": null,
      "outputs": []
    },
    {
      "cell_type": "code",
      "source": [],
      "metadata": {
        "id": "5mnqoDOakOer"
      },
      "execution_count": null,
      "outputs": []
    }
  ]
}